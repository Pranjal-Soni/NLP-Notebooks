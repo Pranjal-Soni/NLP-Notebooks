{
  "nbformat": 4,
  "nbformat_minor": 0,
  "metadata": {
    "colab": {
      "name": "NLP_Assignment_entity_extraction.ipynb",
      "provenance": [],
      "collapsed_sections": []
    },
    "kernelspec": {
      "display_name": "Python 3",
      "language": "python",
      "name": "python3"
    },
    "language_info": {
      "codemirror_mode": {
        "name": "ipython",
        "version": 3
      },
      "file_extension": ".py",
      "mimetype": "text/x-python",
      "name": "python",
      "nbconvert_exporter": "python",
      "pygments_lexer": "ipython3",
      "version": "3.7.6"
    },
    "widgets": {
      "application/vnd.jupyter.widget-state+json": {
        "316ae74f52ae4e28a710e03db5e283df": {
          "model_module": "@jupyter-widgets/controls",
          "model_name": "HBoxModel",
          "state": {
            "_view_name": "HBoxView",
            "_dom_classes": [],
            "_model_name": "HBoxModel",
            "_view_module": "@jupyter-widgets/controls",
            "_model_module_version": "1.5.0",
            "_view_count": null,
            "_view_module_version": "1.5.0",
            "box_style": "",
            "layout": "IPY_MODEL_1280c9eb81ff4bd89eb15bcc31235c07",
            "_model_module": "@jupyter-widgets/controls",
            "children": [
              "IPY_MODEL_1ec831e9d1e745edb7484d22106d3288",
              "IPY_MODEL_2ec04ce6595d4980b30dddfc6f16ea49"
            ]
          }
        },
        "1280c9eb81ff4bd89eb15bcc31235c07": {
          "model_module": "@jupyter-widgets/base",
          "model_name": "LayoutModel",
          "state": {
            "_view_name": "LayoutView",
            "grid_template_rows": null,
            "right": null,
            "justify_content": null,
            "_view_module": "@jupyter-widgets/base",
            "overflow": null,
            "_model_module_version": "1.2.0",
            "_view_count": null,
            "flex_flow": null,
            "width": null,
            "min_width": null,
            "border": null,
            "align_items": null,
            "bottom": null,
            "_model_module": "@jupyter-widgets/base",
            "top": null,
            "grid_column": null,
            "overflow_y": null,
            "overflow_x": null,
            "grid_auto_flow": null,
            "grid_area": null,
            "grid_template_columns": null,
            "flex": null,
            "_model_name": "LayoutModel",
            "justify_items": null,
            "grid_row": null,
            "max_height": null,
            "align_content": null,
            "visibility": null,
            "align_self": null,
            "height": null,
            "min_height": null,
            "padding": null,
            "grid_auto_rows": null,
            "grid_gap": null,
            "max_width": null,
            "order": null,
            "_view_module_version": "1.2.0",
            "grid_template_areas": null,
            "object_position": null,
            "object_fit": null,
            "grid_auto_columns": null,
            "margin": null,
            "display": null,
            "left": null
          }
        },
        "1ec831e9d1e745edb7484d22106d3288": {
          "model_module": "@jupyter-widgets/controls",
          "model_name": "FloatProgressModel",
          "state": {
            "_view_name": "ProgressView",
            "style": "IPY_MODEL_b7be538d78e74258932cc5a6a6f77ab4",
            "_dom_classes": [],
            "description": "100%",
            "_model_name": "FloatProgressModel",
            "bar_style": "success",
            "max": 43347,
            "_view_module": "@jupyter-widgets/controls",
            "_model_module_version": "1.5.0",
            "value": 43347,
            "_view_count": null,
            "_view_module_version": "1.5.0",
            "orientation": "horizontal",
            "min": 0,
            "description_tooltip": null,
            "_model_module": "@jupyter-widgets/controls",
            "layout": "IPY_MODEL_60dabdd0f1bd49b9867f6791603e1da8"
          }
        },
        "2ec04ce6595d4980b30dddfc6f16ea49": {
          "model_module": "@jupyter-widgets/controls",
          "model_name": "HTMLModel",
          "state": {
            "_view_name": "HTMLView",
            "style": "IPY_MODEL_daf128e731e0440291f02a9c2c894344",
            "_dom_classes": [],
            "description": "",
            "_model_name": "HTMLModel",
            "placeholder": "​",
            "_view_module": "@jupyter-widgets/controls",
            "_model_module_version": "1.5.0",
            "value": " 43347/43347 [04:43&lt;00:00, 152.67it/s]",
            "_view_count": null,
            "_view_module_version": "1.5.0",
            "description_tooltip": null,
            "_model_module": "@jupyter-widgets/controls",
            "layout": "IPY_MODEL_7a590ea2291949ff8836fc2dc0f2b0ff"
          }
        },
        "b7be538d78e74258932cc5a6a6f77ab4": {
          "model_module": "@jupyter-widgets/controls",
          "model_name": "ProgressStyleModel",
          "state": {
            "_view_name": "StyleView",
            "_model_name": "ProgressStyleModel",
            "description_width": "initial",
            "_view_module": "@jupyter-widgets/base",
            "_model_module_version": "1.5.0",
            "_view_count": null,
            "_view_module_version": "1.2.0",
            "bar_color": null,
            "_model_module": "@jupyter-widgets/controls"
          }
        },
        "60dabdd0f1bd49b9867f6791603e1da8": {
          "model_module": "@jupyter-widgets/base",
          "model_name": "LayoutModel",
          "state": {
            "_view_name": "LayoutView",
            "grid_template_rows": null,
            "right": null,
            "justify_content": null,
            "_view_module": "@jupyter-widgets/base",
            "overflow": null,
            "_model_module_version": "1.2.0",
            "_view_count": null,
            "flex_flow": null,
            "width": null,
            "min_width": null,
            "border": null,
            "align_items": null,
            "bottom": null,
            "_model_module": "@jupyter-widgets/base",
            "top": null,
            "grid_column": null,
            "overflow_y": null,
            "overflow_x": null,
            "grid_auto_flow": null,
            "grid_area": null,
            "grid_template_columns": null,
            "flex": null,
            "_model_name": "LayoutModel",
            "justify_items": null,
            "grid_row": null,
            "max_height": null,
            "align_content": null,
            "visibility": null,
            "align_self": null,
            "height": null,
            "min_height": null,
            "padding": null,
            "grid_auto_rows": null,
            "grid_gap": null,
            "max_width": null,
            "order": null,
            "_view_module_version": "1.2.0",
            "grid_template_areas": null,
            "object_position": null,
            "object_fit": null,
            "grid_auto_columns": null,
            "margin": null,
            "display": null,
            "left": null
          }
        },
        "daf128e731e0440291f02a9c2c894344": {
          "model_module": "@jupyter-widgets/controls",
          "model_name": "DescriptionStyleModel",
          "state": {
            "_view_name": "StyleView",
            "_model_name": "DescriptionStyleModel",
            "description_width": "",
            "_view_module": "@jupyter-widgets/base",
            "_model_module_version": "1.5.0",
            "_view_count": null,
            "_view_module_version": "1.2.0",
            "_model_module": "@jupyter-widgets/controls"
          }
        },
        "7a590ea2291949ff8836fc2dc0f2b0ff": {
          "model_module": "@jupyter-widgets/base",
          "model_name": "LayoutModel",
          "state": {
            "_view_name": "LayoutView",
            "grid_template_rows": null,
            "right": null,
            "justify_content": null,
            "_view_module": "@jupyter-widgets/base",
            "overflow": null,
            "_model_module_version": "1.2.0",
            "_view_count": null,
            "flex_flow": null,
            "width": null,
            "min_width": null,
            "border": null,
            "align_items": null,
            "bottom": null,
            "_model_module": "@jupyter-widgets/base",
            "top": null,
            "grid_column": null,
            "overflow_y": null,
            "overflow_x": null,
            "grid_auto_flow": null,
            "grid_area": null,
            "grid_template_columns": null,
            "flex": null,
            "_model_name": "LayoutModel",
            "justify_items": null,
            "grid_row": null,
            "max_height": null,
            "align_content": null,
            "visibility": null,
            "align_self": null,
            "height": null,
            "min_height": null,
            "padding": null,
            "grid_auto_rows": null,
            "grid_gap": null,
            "max_width": null,
            "order": null,
            "_view_module_version": "1.2.0",
            "grid_template_areas": null,
            "object_position": null,
            "object_fit": null,
            "grid_auto_columns": null,
            "margin": null,
            "display": null,
            "left": null
          }
        },
        "986a75c45edb40f495dca36eff1b5799": {
          "model_module": "@jupyter-widgets/controls",
          "model_name": "HBoxModel",
          "state": {
            "_view_name": "HBoxView",
            "_dom_classes": [],
            "_model_name": "HBoxModel",
            "_view_module": "@jupyter-widgets/controls",
            "_model_module_version": "1.5.0",
            "_view_count": null,
            "_view_module_version": "1.5.0",
            "box_style": "",
            "layout": "IPY_MODEL_422701f297c142c7b85762c60d238b8d",
            "_model_module": "@jupyter-widgets/controls",
            "children": [
              "IPY_MODEL_445d99b6baf944d5ac85c06aa69cc001",
              "IPY_MODEL_cfe734a99d1748bd8cdb42f44343824b"
            ]
          }
        },
        "422701f297c142c7b85762c60d238b8d": {
          "model_module": "@jupyter-widgets/base",
          "model_name": "LayoutModel",
          "state": {
            "_view_name": "LayoutView",
            "grid_template_rows": null,
            "right": null,
            "justify_content": null,
            "_view_module": "@jupyter-widgets/base",
            "overflow": null,
            "_model_module_version": "1.2.0",
            "_view_count": null,
            "flex_flow": null,
            "width": null,
            "min_width": null,
            "border": null,
            "align_items": null,
            "bottom": null,
            "_model_module": "@jupyter-widgets/base",
            "top": null,
            "grid_column": null,
            "overflow_y": null,
            "overflow_x": null,
            "grid_auto_flow": null,
            "grid_area": null,
            "grid_template_columns": null,
            "flex": null,
            "_model_name": "LayoutModel",
            "justify_items": null,
            "grid_row": null,
            "max_height": null,
            "align_content": null,
            "visibility": null,
            "align_self": null,
            "height": null,
            "min_height": null,
            "padding": null,
            "grid_auto_rows": null,
            "grid_gap": null,
            "max_width": null,
            "order": null,
            "_view_module_version": "1.2.0",
            "grid_template_areas": null,
            "object_position": null,
            "object_fit": null,
            "grid_auto_columns": null,
            "margin": null,
            "display": null,
            "left": null
          }
        },
        "445d99b6baf944d5ac85c06aa69cc001": {
          "model_module": "@jupyter-widgets/controls",
          "model_name": "FloatProgressModel",
          "state": {
            "_view_name": "ProgressView",
            "style": "IPY_MODEL_b8dcd25a95cc45afa1c66b681a17d1c3",
            "_dom_classes": [],
            "description": "100%",
            "_model_name": "FloatProgressModel",
            "bar_style": "success",
            "max": 9292,
            "_view_module": "@jupyter-widgets/controls",
            "_model_module_version": "1.5.0",
            "value": 9292,
            "_view_count": null,
            "_view_module_version": "1.5.0",
            "orientation": "horizontal",
            "min": 0,
            "description_tooltip": null,
            "_model_module": "@jupyter-widgets/controls",
            "layout": "IPY_MODEL_f7de9cb463b24a1890f7406fe3ae1d4b"
          }
        },
        "cfe734a99d1748bd8cdb42f44343824b": {
          "model_module": "@jupyter-widgets/controls",
          "model_name": "HTMLModel",
          "state": {
            "_view_name": "HTMLView",
            "style": "IPY_MODEL_0ce10c223d344f9284258e6e11488d90",
            "_dom_classes": [],
            "description": "",
            "_model_name": "HTMLModel",
            "placeholder": "​",
            "_view_module": "@jupyter-widgets/controls",
            "_model_module_version": "1.5.0",
            "value": " 9292/9292 [02:24&lt;00:00, 64.37it/s]",
            "_view_count": null,
            "_view_module_version": "1.5.0",
            "description_tooltip": null,
            "_model_module": "@jupyter-widgets/controls",
            "layout": "IPY_MODEL_45729627486042a6967c0e00428867c7"
          }
        },
        "b8dcd25a95cc45afa1c66b681a17d1c3": {
          "model_module": "@jupyter-widgets/controls",
          "model_name": "ProgressStyleModel",
          "state": {
            "_view_name": "StyleView",
            "_model_name": "ProgressStyleModel",
            "description_width": "initial",
            "_view_module": "@jupyter-widgets/base",
            "_model_module_version": "1.5.0",
            "_view_count": null,
            "_view_module_version": "1.2.0",
            "bar_color": null,
            "_model_module": "@jupyter-widgets/controls"
          }
        },
        "f7de9cb463b24a1890f7406fe3ae1d4b": {
          "model_module": "@jupyter-widgets/base",
          "model_name": "LayoutModel",
          "state": {
            "_view_name": "LayoutView",
            "grid_template_rows": null,
            "right": null,
            "justify_content": null,
            "_view_module": "@jupyter-widgets/base",
            "overflow": null,
            "_model_module_version": "1.2.0",
            "_view_count": null,
            "flex_flow": null,
            "width": null,
            "min_width": null,
            "border": null,
            "align_items": null,
            "bottom": null,
            "_model_module": "@jupyter-widgets/base",
            "top": null,
            "grid_column": null,
            "overflow_y": null,
            "overflow_x": null,
            "grid_auto_flow": null,
            "grid_area": null,
            "grid_template_columns": null,
            "flex": null,
            "_model_name": "LayoutModel",
            "justify_items": null,
            "grid_row": null,
            "max_height": null,
            "align_content": null,
            "visibility": null,
            "align_self": null,
            "height": null,
            "min_height": null,
            "padding": null,
            "grid_auto_rows": null,
            "grid_gap": null,
            "max_width": null,
            "order": null,
            "_view_module_version": "1.2.0",
            "grid_template_areas": null,
            "object_position": null,
            "object_fit": null,
            "grid_auto_columns": null,
            "margin": null,
            "display": null,
            "left": null
          }
        },
        "0ce10c223d344f9284258e6e11488d90": {
          "model_module": "@jupyter-widgets/controls",
          "model_name": "DescriptionStyleModel",
          "state": {
            "_view_name": "StyleView",
            "_model_name": "DescriptionStyleModel",
            "description_width": "",
            "_view_module": "@jupyter-widgets/base",
            "_model_module_version": "1.5.0",
            "_view_count": null,
            "_view_module_version": "1.2.0",
            "_model_module": "@jupyter-widgets/controls"
          }
        },
        "45729627486042a6967c0e00428867c7": {
          "model_module": "@jupyter-widgets/base",
          "model_name": "LayoutModel",
          "state": {
            "_view_name": "LayoutView",
            "grid_template_rows": null,
            "right": null,
            "justify_content": null,
            "_view_module": "@jupyter-widgets/base",
            "overflow": null,
            "_model_module_version": "1.2.0",
            "_view_count": null,
            "flex_flow": null,
            "width": null,
            "min_width": null,
            "border": null,
            "align_items": null,
            "bottom": null,
            "_model_module": "@jupyter-widgets/base",
            "top": null,
            "grid_column": null,
            "overflow_y": null,
            "overflow_x": null,
            "grid_auto_flow": null,
            "grid_area": null,
            "grid_template_columns": null,
            "flex": null,
            "_model_name": "LayoutModel",
            "justify_items": null,
            "grid_row": null,
            "max_height": null,
            "align_content": null,
            "visibility": null,
            "align_self": null,
            "height": null,
            "min_height": null,
            "padding": null,
            "grid_auto_rows": null,
            "grid_gap": null,
            "max_width": null,
            "order": null,
            "_view_module_version": "1.2.0",
            "grid_template_areas": null,
            "object_position": null,
            "object_fit": null,
            "grid_auto_columns": null,
            "margin": null,
            "display": null,
            "left": null
          }
        }
      }
    }
  },
  "cells": [
    {
      "cell_type": "code",
      "metadata": {
        "colab": {
          "base_uri": "https://localhost:8080/"
        },
        "id": "Q-vKyX8PZ74_",
        "outputId": "84da8522-4a98-47a1-a1ba-e490ccbb293c"
      },
      "source": [
        "from google.colab import drive\n",
        "drive.mount('/content/drive')"
      ],
      "execution_count": 44,
      "outputs": [
        {
          "output_type": "stream",
          "text": [
            "Drive already mounted at /content/drive; to attempt to forcibly remount, call drive.mount(\"/content/drive\", force_remount=True).\n"
          ],
          "name": "stdout"
        }
      ]
    },
    {
      "cell_type": "code",
      "metadata": {
        "id": "tpJIbTuuZi2c"
      },
      "source": [
        "import numpy as np\n",
        "import pandas as pd\n",
        "import json\n",
        "import nltk\n",
        "import re\n",
        "import string\n",
        "from nltk.corpus import stopwords \n",
        "from nltk.tokenize import word_tokenize \n",
        "from tqdm.notebook import tqdm\n",
        "!python -m nltk.downloader all\n",
        "!pip install transformers\n",
        "from transformers import pipeline"
      ],
      "execution_count": null,
      "outputs": []
    },
    {
      "cell_type": "code",
      "metadata": {
        "id": "3CUp07dBZi29"
      },
      "source": [
        "with open('/content/drive/MyDrive/tweets.json') as jfile:\n",
        "    tweets = json.load(jfile)"
      ],
      "execution_count": null,
      "outputs": []
    },
    {
      "cell_type": "code",
      "metadata": {
        "colab": {
          "base_uri": "https://localhost:8080/"
        },
        "id": "xpUTS6hdZi2_",
        "outputId": "f7aaf40d-706d-42e7-a198-f17cb78220fb"
      },
      "source": [
        "print(f\"Number of tweets in json file : {len(tweets.keys())}\")"
      ],
      "execution_count": null,
      "outputs": [
        {
          "output_type": "stream",
          "text": [
            "Number of tweets in json file : 43347\n"
          ],
          "name": "stdout"
        }
      ]
    },
    {
      "cell_type": "code",
      "metadata": {
        "colab": {
          "base_uri": "https://localhost:8080/",
          "height": 244,
          "referenced_widgets": [
            "316ae74f52ae4e28a710e03db5e283df",
            "1280c9eb81ff4bd89eb15bcc31235c07",
            "1ec831e9d1e745edb7484d22106d3288",
            "2ec04ce6595d4980b30dddfc6f16ea49",
            "b7be538d78e74258932cc5a6a6f77ab4",
            "60dabdd0f1bd49b9867f6791603e1da8",
            "daf128e731e0440291f02a9c2c894344",
            "7a590ea2291949ff8836fc2dc0f2b0ff"
          ]
        },
        "id": "NvmTZttYZi3B",
        "outputId": "e04bee32-4c8f-4749-c9b2-e817fd95c73d"
      },
      "source": [
        "#convert json file to pandas dataframe\n",
        "tweet_df = pd.DataFrame(columns=['tweet author','tweet text'])\n",
        "\n",
        "#append tweets in tweet_df dataframe\n",
        "for key in tqdm(tweets.keys()):\n",
        "    tweet_author = tweets[key][\"tweet_author\"]\n",
        "    tweet_text = tweets[key][\"tweet_text\"]\n",
        "    tweet_df = tweet_df.append({'tweet author':tweet_author,\"tweet text\":tweet_text}, ignore_index=True)\n",
        "    \n",
        "tweet_df.head()"
      ],
      "execution_count": null,
      "outputs": [
        {
          "output_type": "display_data",
          "data": {
            "application/vnd.jupyter.widget-view+json": {
              "model_id": "316ae74f52ae4e28a710e03db5e283df",
              "version_minor": 0,
              "version_major": 2
            },
            "text/plain": [
              "HBox(children=(FloatProgress(value=0.0, max=43347.0), HTML(value='')))"
            ]
          },
          "metadata": {
            "tags": []
          }
        },
        {
          "output_type": "stream",
          "text": [
            "\n"
          ],
          "name": "stdout"
        },
        {
          "output_type": "execute_result",
          "data": {
            "text/html": [
              "<div>\n",
              "<style scoped>\n",
              "    .dataframe tbody tr th:only-of-type {\n",
              "        vertical-align: middle;\n",
              "    }\n",
              "\n",
              "    .dataframe tbody tr th {\n",
              "        vertical-align: top;\n",
              "    }\n",
              "\n",
              "    .dataframe thead th {\n",
              "        text-align: right;\n",
              "    }\n",
              "</style>\n",
              "<table border=\"1\" class=\"dataframe\">\n",
              "  <thead>\n",
              "    <tr style=\"text-align: right;\">\n",
              "      <th></th>\n",
              "      <th>tweet author</th>\n",
              "      <th>tweet text</th>\n",
              "    </tr>\n",
              "  </thead>\n",
              "  <tbody>\n",
              "    <tr>\n",
              "      <th>0</th>\n",
              "      <td>Hematopoiesis News</td>\n",
              "      <td>⚕️ Scientists conducted a Phase II study of ac...</td>\n",
              "    </tr>\n",
              "    <tr>\n",
              "      <th>1</th>\n",
              "      <td>Michael Wang, MD</td>\n",
              "      <td>This phase 2 Acalabrutinib-Venetoclax (AV) tri...</td>\n",
              "    </tr>\n",
              "    <tr>\n",
              "      <th>2</th>\n",
              "      <td>1stOncology</td>\n",
              "      <td>#NICE backs #AstraZenecas #Calquence for #CLL ...</td>\n",
              "    </tr>\n",
              "    <tr>\n",
              "      <th>3</th>\n",
              "      <td>Toby Eyre</td>\n",
              "      <td>#acalabrutinib is a valuable option in pts int...</td>\n",
              "    </tr>\n",
              "    <tr>\n",
              "      <th>4</th>\n",
              "      <td>Lymphoma Hub</td>\n",
              "      <td>NICE has recommended the use of acalabrutinib ...</td>\n",
              "    </tr>\n",
              "  </tbody>\n",
              "</table>\n",
              "</div>"
            ],
            "text/plain": [
              "         tweet author                                         tweet text\n",
              "0  Hematopoiesis News  ⚕️ Scientists conducted a Phase II study of ac...\n",
              "1    Michael Wang, MD  This phase 2 Acalabrutinib-Venetoclax (AV) tri...\n",
              "2         1stOncology  #NICE backs #AstraZenecas #Calquence for #CLL ...\n",
              "3           Toby Eyre  #acalabrutinib is a valuable option in pts int...\n",
              "4        Lymphoma Hub  NICE has recommended the use of acalabrutinib ..."
            ]
          },
          "metadata": {
            "tags": []
          },
          "execution_count": 5
        }
      ]
    },
    {
      "cell_type": "code",
      "metadata": {
        "id": "6b7umUORGxpr"
      },
      "source": [
        "new_tweet_df = tweet_df.copy()"
      ],
      "execution_count": null,
      "outputs": []
    },
    {
      "cell_type": "code",
      "metadata": {
        "colab": {
          "base_uri": "https://localhost:8080/"
        },
        "id": "1g0TXeodL2yF",
        "outputId": "ac7a97c3-f32e-42f0-9926-2b11970cc49f"
      },
      "source": [
        "print(f\"Total number of tweets : {len(tweet_df)}\")"
      ],
      "execution_count": null,
      "outputs": [
        {
          "output_type": "stream",
          "text": [
            "Total number of tweets : 43347\n"
          ],
          "name": "stdout"
        }
      ]
    },
    {
      "cell_type": "code",
      "metadata": {
        "id": "qWNJr8CNMDMI"
      },
      "source": [
        "#drop duplicate tweets\n",
        "tweet_df = tweet_df.drop_duplicates().reset_index()"
      ],
      "execution_count": null,
      "outputs": []
    },
    {
      "cell_type": "markdown",
      "metadata": {
        "id": "88_BvRlHGpBk"
      },
      "source": [
        ""
      ]
    },
    {
      "cell_type": "code",
      "metadata": {
        "colab": {
          "base_uri": "https://localhost:8080/"
        },
        "id": "UhLB9KHPMDRN",
        "outputId": "4be87f0b-0038-477f-ea70-2c4b8f53115a"
      },
      "source": [
        "print(f\"Total number of unique tweets : {len(tweet_df)}\")"
      ],
      "execution_count": null,
      "outputs": [
        {
          "output_type": "stream",
          "text": [
            "Total number of unique tweets : 41818\n"
          ],
          "name": "stdout"
        }
      ]
    },
    {
      "cell_type": "code",
      "metadata": {
        "colab": {
          "base_uri": "https://localhost:8080/"
        },
        "id": "_efBSb-lZi3D",
        "outputId": "ec475d60-509b-4c6e-b15a-f360d57baba7"
      },
      "source": [
        "unique_authors = len(tweet_df[\"tweet author\"].unique())\n",
        "print(f\"There are {unique_authors} unique authors in the json file.\")"
      ],
      "execution_count": null,
      "outputs": [
        {
          "output_type": "stream",
          "text": [
            "There are 9292 unique authors in the json file.\n"
          ],
          "name": "stdout"
        }
      ]
    },
    {
      "cell_type": "code",
      "metadata": {
        "id": "xM8QHvQtZi3E",
        "colab": {
          "base_uri": "https://localhost:8080/"
        },
        "outputId": "0f761928-6778-4b16-db2f-86036fe19b0f"
      },
      "source": [
        "#print 5 sample tweets\n",
        "for i in range(0,5):\n",
        "    tweet = tweet_df[\"tweet text\"][i]\n",
        "    print(f\"Tweet {i +1 } : {tweet} \\n\")"
      ],
      "execution_count": null,
      "outputs": [
        {
          "output_type": "stream",
          "text": [
            "Tweet 1 : ⚕️ Scientists conducted a Phase II study of acalabrutinib in patients with relapsed/refractory #CLL who were ibrutinib-intolerant, and found an overall response rate of 73%. \n",
            "https://t.co/eJ6m4QpC5P https://t.co/kuZz6ZO47r \n",
            "\n",
            "Tweet 2 : This phase 2 Acalabrutinib-Venetoclax (AV) trial that is still in recruitment phase will study how well venetoclax and acalabrutinib works in MCL patients who either relapsed or non-respondent to the initial therapy.\n",
            "\n",
            "https://t.co/gg0G9At23N \n",
            "\n",
            "Tweet 3 : #NICE backs #AstraZenecas #Calquence for #CLL https://t.co/Vb5lPDoGrA \n",
            "\n",
            "Tweet 4 : #acalabrutinib is a valuable option in pts intolerant to #ibrutinib. Further valuable data to help decision making in #CLL \n",
            "\n",
            "Early View | Haematologica https://t.co/Z2kCLZaX0D \n",
            "\n",
            "Tweet 5 : NICE has recommended the use of acalabrutinib for patients with treatment-naïve chronic lymphocytic leukemia. Find out more here https://t.co/6OuJptLCIN #lymsm #lymphoma \n",
            "\n"
          ],
          "name": "stdout"
        }
      ]
    },
    {
      "cell_type": "markdown",
      "metadata": {
        "id": "MoEYKJqwZi3F"
      },
      "source": [
        "## Data Cleaning Pipeline"
      ]
    },
    {
      "cell_type": "code",
      "metadata": {
        "id": "coYRot6MZi4h"
      },
      "source": [
        "#remove links from the tweets\n",
        "tweet_df[\"tweet text\"] = tweet_df[\"tweet text\"].apply(lambda tweet : re.sub(r\"https\\S+\",\"\",tweet))"
      ],
      "execution_count": null,
      "outputs": []
    },
    {
      "cell_type": "code",
      "metadata": {
        "id": "TABLgl1WZi3G"
      },
      "source": [
        "#remove hashtags,mentions from the tweets\n",
        "tweet_df[\"tweet text\"] = tweet_df[\"tweet text\"].apply(lambda tweet : re.sub(r\"[\\@\\#\\$]\\w+\",\"\",tweet))"
      ],
      "execution_count": null,
      "outputs": []
    },
    {
      "cell_type": "code",
      "metadata": {
        "id": "my8_4PoNAxQo"
      },
      "source": [
        "#lowercase the words of tweets\n",
        "tweet_df[\"tweet text\"] = tweet_df[\"tweet text\"].apply(lambda tweet : tweet.lower())"
      ],
      "execution_count": null,
      "outputs": []
    },
    {
      "cell_type": "code",
      "metadata": {
        "id": "eUU2oWRBZi6O"
      },
      "source": [
        "stop_words = set(stopwords.words('english')) \n",
        "def remove_stop_word(tweet):\n",
        "    \"\"\"Return tweet after removing stopwords\"\"\"\n",
        "    tokenized_tweet = word_tokenize(tweet)\n",
        "    filtered_tweet = [word for word in tokenized_tweet if word not in stop_words]\n",
        "    return \" \".join(filtered_tweet)\n",
        "\n",
        "#apply remove_stop_word on tweets\n",
        "tweet_df[\"tweet text\"] = tweet_df[\"tweet text\"].apply(remove_stop_word)"
      ],
      "execution_count": null,
      "outputs": []
    },
    {
      "cell_type": "code",
      "metadata": {
        "id": "ZWEq5yndyNio"
      },
      "source": [
        "#remove punctuation from the tweets\n",
        "tweet_df[\"tweet text\"] = tweet_df[\"tweet text\"].apply(lambda tweet : re.sub('[%s]' % re.escape(string.punctuation),\" \",tweet))"
      ],
      "execution_count": null,
      "outputs": []
    },
    {
      "cell_type": "code",
      "metadata": {
        "id": "Qe31Dj1fsxHG"
      },
      "source": [
        "#remove all tokens that are not alphabetic\n",
        "def filter_tweets(tweet):\n",
        "    \"\"\"Fiter out the non alphanumeric words\"\"\"\n",
        "    splitted_text = word_tokenize(tweet)\n",
        "    filtered_tweet = [word for word in splitted_text if word.isalpha()]\n",
        "    return \" \".join(filtered_tweet)\n",
        "\n",
        "#remove punctuation from the tweets\n",
        "tweet_df[\"tweet text\"] = tweet_df[\"tweet text\"].apply(filter_tweets)"
      ],
      "execution_count": null,
      "outputs": []
    },
    {
      "cell_type": "code",
      "metadata": {
        "id": "Byswv_QfZi6Q"
      },
      "source": [
        "tweets_data = tweet_df[\"tweet text\"]"
      ],
      "execution_count": null,
      "outputs": []
    },
    {
      "cell_type": "code",
      "metadata": {
        "id": "9DKW5LkWB3Q2"
      },
      "source": [
        "#Drop duplicate tweets \n",
        "tweets_data = tweets_data.drop_duplicates().reset_index(drop=True)"
      ],
      "execution_count": null,
      "outputs": []
    },
    {
      "cell_type": "code",
      "metadata": {
        "colab": {
          "base_uri": "https://localhost:8080/"
        },
        "id": "vEiDkxTSB3Uu",
        "outputId": "7145aeef-8e21-4b49-d28b-01d729c5b676"
      },
      "source": [
        "print(f\"Number of unique tweets : {len(tweets_data)}\")"
      ],
      "execution_count": null,
      "outputs": [
        {
          "output_type": "stream",
          "text": [
            "Number of unique tweets : 31840\n"
          ],
          "name": "stdout"
        }
      ]
    },
    {
      "cell_type": "markdown",
      "metadata": {
        "id": "DkzR2gGTCV4q"
      },
      "source": [
        "## Finding Entities"
      ]
    },
    {
      "cell_type": "code",
      "metadata": {
        "id": "ZLQPAKH1B3Xe"
      },
      "source": [
        "combined_tweets = ''\n",
        "for tweet in tweets_data:\n",
        "    combined_tweets = combined_tweets +\" \"+ tweet"
      ],
      "execution_count": null,
      "outputs": []
    },
    {
      "cell_type": "code",
      "metadata": {
        "id": "G8K0NQykLQnn"
      },
      "source": [
        "#find most frequently occured trigrams\n",
        "trigram_fd = nltk.FreqDist(nltk.trigrams(combined_tweets.split()))\n",
        "\n",
        "trigrams = []\n",
        "trigrams_freq = []\n",
        "\n",
        "#top 50 most frequently used trigrams\n",
        "for val in trigram_fd.most_common(n=50):\n",
        "    if len(val[0][0])>1 and len(val[0][1])>1 and len(val[0][2])>1:\n",
        "      trigram = \" \".join(val[0])\n",
        "      if \"http\" not in trigram and \"article\" not in trigram:\n",
        "        trigrams.append(trigram)\n",
        "        trigrams_freq.append(val[1])\n",
        "\n",
        "pd.DataFrame({\"Trigram\":trigrams,\"Frequency\":trigrams_freq})"
      ],
      "execution_count": 55,
      "outputs": []
    },
    {
      "cell_type": "code",
      "metadata": {
        "colab": {
          "base_uri": "https://localhost:8080/",
          "height": 402
        },
        "id": "sZPxJrcoIuUs",
        "outputId": "7a08f5ab-0103-4870-9c86-2453070ac7c6"
      },
      "source": [
        "#find most frequently occured bigrams\n",
        "bigram_fd = nltk.FreqDist(nltk.bigrams(combined_tweets.split()))\n",
        "\n",
        "bigrams = []\n",
        "bigrams_freq = []\n",
        "\n",
        "#top 100 most frequently used bigrams\n",
        "for val in bigram_fd.most_common(n=100):\n",
        "    if len(val[0][0])>2 and len(val[0][1])>2:\n",
        "      bigram = \" \".join(val[0])\n",
        "      if \"http\" not in bigram and \"article\" not in bigram:\n",
        "        bigrams.append(bigram)\n",
        "        bigrams_freq.append(val[1])\n",
        "\n",
        "pd.DataFrame({\"Bigram\":bigrams,\"Frequency\":bigrams_freq})"
      ],
      "execution_count": 63,
      "outputs": [
        {
          "output_type": "execute_result",
          "data": {
            "text/html": [
              "<div>\n",
              "<style scoped>\n",
              "    .dataframe tbody tr th:only-of-type {\n",
              "        vertical-align: middle;\n",
              "    }\n",
              "\n",
              "    .dataframe tbody tr th {\n",
              "        vertical-align: top;\n",
              "    }\n",
              "\n",
              "    .dataframe thead th {\n",
              "        text-align: right;\n",
              "    }\n",
              "</style>\n",
              "<table border=\"1\" class=\"dataframe\">\n",
              "  <thead>\n",
              "    <tr style=\"text-align: right;\">\n",
              "      <th></th>\n",
              "      <th>Bigram</th>\n",
              "      <th>Frequency</th>\n",
              "    </tr>\n",
              "  </thead>\n",
              "  <tbody>\n",
              "    <tr>\n",
              "      <th>0</th>\n",
              "      <td>chronic lymphocytic</td>\n",
              "      <td>11519</td>\n",
              "    </tr>\n",
              "    <tr>\n",
              "      <th>1</th>\n",
              "      <td>lymphocytic leukemia</td>\n",
              "      <td>9669</td>\n",
              "    </tr>\n",
              "    <tr>\n",
              "      <th>2</th>\n",
              "      <td>patients chronic</td>\n",
              "      <td>1481</td>\n",
              "    </tr>\n",
              "    <tr>\n",
              "      <th>3</th>\n",
              "      <td>leukemia cll</td>\n",
              "      <td>1181</td>\n",
              "    </tr>\n",
              "    <tr>\n",
              "      <th>4</th>\n",
              "      <td>relapsed refractory</td>\n",
              "      <td>1015</td>\n",
              "    </tr>\n",
              "    <tr>\n",
              "      <th>...</th>\n",
              "      <td>...</td>\n",
              "      <td>...</td>\n",
              "    </tr>\n",
              "    <tr>\n",
              "      <th>76</th>\n",
              "      <td>disease progression</td>\n",
              "      <td>121</td>\n",
              "    </tr>\n",
              "    <tr>\n",
              "      <th>77</th>\n",
              "      <td>ibrutinib plus</td>\n",
              "      <td>121</td>\n",
              "    </tr>\n",
              "    <tr>\n",
              "      <th>78</th>\n",
              "      <td>calquence acalabrutinib</td>\n",
              "      <td>120</td>\n",
              "    </tr>\n",
              "    <tr>\n",
              "      <th>79</th>\n",
              "      <td>cll chronic</td>\n",
              "      <td>120</td>\n",
              "    </tr>\n",
              "    <tr>\n",
              "      <th>80</th>\n",
              "      <td>breakthrough therapy</td>\n",
              "      <td>119</td>\n",
              "    </tr>\n",
              "  </tbody>\n",
              "</table>\n",
              "<p>81 rows × 2 columns</p>\n",
              "</div>"
            ],
            "text/plain": [
              "                     Bigram  Frequency\n",
              "0       chronic lymphocytic      11519\n",
              "1      lymphocytic leukemia       9669\n",
              "2          patients chronic       1481\n",
              "3              leukemia cll       1181\n",
              "4       relapsed refractory       1015\n",
              "..                      ...        ...\n",
              "76      disease progression        121\n",
              "77           ibrutinib plus        121\n",
              "78  calquence acalabrutinib        120\n",
              "79              cll chronic        120\n",
              "80     breakthrough therapy        119\n",
              "\n",
              "[81 rows x 2 columns]"
            ]
          },
          "metadata": {
            "tags": []
          },
          "execution_count": 63
        }
      ]
    },
    {
      "cell_type": "code",
      "metadata": {
        "colab": {
          "base_uri": "https://localhost:8080/"
        },
        "id": "oFr19XCWqsR3",
        "outputId": "477b7786-2912-4603-8d93-6bb8667cef9e"
      },
      "source": [
        "#frequently occuring entities in tweets\n",
        "entities = bigrams + trigrams\n",
        "entities"
      ],
      "execution_count": 83,
      "outputs": [
        {
          "output_type": "execute_result",
          "data": {
            "text/plain": [
              "['chronic lymphocytic',\n",
              " 'lymphocytic leukemia',\n",
              " 'patients chronic',\n",
              " 'leukemia cll',\n",
              " 'relapsed refractory',\n",
              " 'refractory chronic',\n",
              " 'small lymphocytic',\n",
              " 'treatment chronic',\n",
              " 'cell lymphoma',\n",
              " 'mantle cell',\n",
              " 'lymphocytic lymphoma',\n",
              " 'patients relapsed',\n",
              " 'lymphocytic leukaemia',\n",
              " 'clinical trial',\n",
              " 'leukemia small',\n",
              " 'leukemia patients',\n",
              " 'high risk',\n",
              " 'leukemia new',\n",
              " 'long term',\n",
              " 'first line',\n",
              " 'treatment patients',\n",
              " 'previously untreated',\n",
              " 'non hodgkin',\n",
              " 'cll patients',\n",
              " 'btk inhibitor',\n",
              " 'fda approves',\n",
              " 'blood cancer',\n",
              " 'phase iii',\n",
              " 'clinical trials',\n",
              " 'relapsed chronic',\n",
              " 'hodgkin lymphoma',\n",
              " 'btk inhibitors',\n",
              " 'treatment options',\n",
              " 'cell therapy',\n",
              " 'cancer drug',\n",
              " 'untreated chronic',\n",
              " 'lymphoma chronic',\n",
              " 'phase study',\n",
              " 'line treatment',\n",
              " 'leukemia chronic',\n",
              " 'patients cll',\n",
              " 'leukemia via',\n",
              " 'cell chronic',\n",
              " 'residual disease',\n",
              " 'leukemia cells',\n",
              " 'new drug',\n",
              " 'cll sll',\n",
              " 'previously treated',\n",
              " 'diagnosed chronic',\n",
              " 'minimal residual',\n",
              " 'progression free',\n",
              " 'free survival',\n",
              " 'tyrosine kinase',\n",
              " 'real world',\n",
              " 'leukemia treatment',\n",
              " 'therapy chronic',\n",
              " 'bone marrow',\n",
              " 'new clinical',\n",
              " 'adult patients',\n",
              " 'ibrutinib venetoclax',\n",
              " 'phase trial',\n",
              " 'novel agents',\n",
              " 'patients previously',\n",
              " 'new treatment',\n",
              " 'plus rituximab',\n",
              " 'ibrutinib treatment',\n",
              " 'lymphocytic cll',\n",
              " 'treatment naïve',\n",
              " 'side effects',\n",
              " 'older patients',\n",
              " 'front line',\n",
              " 'patients treated',\n",
              " 'patient chronic',\n",
              " 'risk chronic',\n",
              " 'looking forward',\n",
              " 'myeloid leukemia',\n",
              " 'disease progression',\n",
              " 'ibrutinib plus',\n",
              " 'calquence acalabrutinib',\n",
              " 'cll chronic',\n",
              " 'breakthrough therapy',\n",
              " 'chronic lymphocytic leukemia',\n",
              " 'patients chronic lymphocytic',\n",
              " 'lymphocytic leukemia cll',\n",
              " 'refractory chronic lymphocytic',\n",
              " 'relapsed refractory chronic',\n",
              " 'treatment chronic lymphocytic',\n",
              " 'small lymphocytic lymphoma',\n",
              " 'chronic lymphocytic leukaemia',\n",
              " 'mantle cell lymphoma',\n",
              " 'lymphocytic leukemia small',\n",
              " 'leukemia small lymphocytic',\n",
              " 'patients relapsed refractory',\n",
              " 'lymphocytic leukemia patients',\n",
              " 'lymphocytic leukemia new',\n",
              " 'relapsed chronic lymphocytic',\n",
              " 'untreated chronic lymphocytic',\n",
              " 'lymphoma chronic lymphocytic',\n",
              " 'non hodgkin lymphoma',\n",
              " 'lymphocytic leukemia via',\n",
              " 'cell chronic lymphocytic',\n",
              " 'lymphocytic leukemia cells',\n",
              " 'treatment patients chronic',\n",
              " 'leukemia chronic lymphocytic',\n",
              " 'diagnosed chronic lymphocytic',\n",
              " 'minimal residual disease',\n",
              " 'first line treatment',\n",
              " 'new clinical trial',\n",
              " 'therapy chronic lymphocytic',\n",
              " 'previously untreated chronic',\n",
              " 'lymphocytic leukemia treatment',\n",
              " 'progression free survival',\n",
              " 'chronic lymphocytic cll',\n",
              " 'patient chronic lymphocytic',\n",
              " 'risk chronic lymphocytic',\n",
              " 'lymphocytic leukemia chronic',\n",
              " 'cll chronic lymphocytic',\n",
              " 'ibrutinib chronic lymphocytic',\n",
              " 'breakthrough therapy designation',\n",
              " 'bruton tyrosine kinase',\n",
              " 'high risk chronic']"
            ]
          },
          "metadata": {
            "tags": []
          },
          "execution_count": 83
        }
      ]
    },
    {
      "cell_type": "code",
      "metadata": {
        "id": "9GJUdCfGnzlG"
      },
      "source": [
        "tweet_df = tweet_df.drop([\"index\"],axis=1)"
      ],
      "execution_count": 81,
      "outputs": []
    },
    {
      "cell_type": "markdown",
      "metadata": {
        "id": "NcLrumpOFi1i"
      },
      "source": [
        "## Analysing sentiment of tweets using hugging face transformers"
      ]
    },
    {
      "cell_type": "code",
      "metadata": {
        "id": "iVtOToUaFidH"
      },
      "source": [
        "sentiment_analysis = pipeline(\"sentiment-analysis\")"
      ],
      "execution_count": null,
      "outputs": []
    },
    {
      "cell_type": "code",
      "metadata": {
        "id": "GBo59SkQFwHf"
      },
      "source": [
        "#predicting sentiment for each tweet\n",
        "tweet_sentiments = []\n",
        "sentiment_scores = []\n",
        "\n",
        "for tweet in tqdm(tweet_df[\"tweet text\"]):\n",
        "    sentiment_result = sentiment_analysis(tweet)[0]\n",
        "    tweet_sentiments.append(sentiment_result[\"label\"])\n",
        "    sentiment_scores.append(sentiment_result[\"score\"])\n",
        "\n",
        "pd.DataFrame({\"Sentiment\":tweet_sentiments,\"Score\":sentiment_scores}).to_csv(\"/content/drive/MyDrive/tweet_sentiments.csv\",index=False)"
      ],
      "execution_count": null,
      "outputs": []
    },
    {
      "cell_type": "code",
      "metadata": {
        "colab": {
          "base_uri": "https://localhost:8080/",
          "height": 195
        },
        "id": "s-5bmHs4tlwr",
        "outputId": "8601ff31-2b9f-4c38-dce1-e354582555ee"
      },
      "source": [
        "sentiment_df = pd.read_csv(\"/content/drive/MyDrive/tweet_sentiments.csv\")\n",
        "sentiment_df.head()"
      ],
      "execution_count": 102,
      "outputs": [
        {
          "output_type": "execute_result",
          "data": {
            "text/html": [
              "<div>\n",
              "<style scoped>\n",
              "    .dataframe tbody tr th:only-of-type {\n",
              "        vertical-align: middle;\n",
              "    }\n",
              "\n",
              "    .dataframe tbody tr th {\n",
              "        vertical-align: top;\n",
              "    }\n",
              "\n",
              "    .dataframe thead th {\n",
              "        text-align: right;\n",
              "    }\n",
              "</style>\n",
              "<table border=\"1\" class=\"dataframe\">\n",
              "  <thead>\n",
              "    <tr style=\"text-align: right;\">\n",
              "      <th></th>\n",
              "      <th>Sentiment</th>\n",
              "      <th>Score</th>\n",
              "    </tr>\n",
              "  </thead>\n",
              "  <tbody>\n",
              "    <tr>\n",
              "      <th>0</th>\n",
              "      <td>NEGATIVE</td>\n",
              "      <td>0.936341</td>\n",
              "    </tr>\n",
              "    <tr>\n",
              "      <th>1</th>\n",
              "      <td>NEGATIVE</td>\n",
              "      <td>0.966200</td>\n",
              "    </tr>\n",
              "    <tr>\n",
              "      <th>2</th>\n",
              "      <td>NEGATIVE</td>\n",
              "      <td>0.967700</td>\n",
              "    </tr>\n",
              "    <tr>\n",
              "      <th>3</th>\n",
              "      <td>POSITIVE</td>\n",
              "      <td>0.971031</td>\n",
              "    </tr>\n",
              "    <tr>\n",
              "      <th>4</th>\n",
              "      <td>POSITIVE</td>\n",
              "      <td>0.674825</td>\n",
              "    </tr>\n",
              "  </tbody>\n",
              "</table>\n",
              "</div>"
            ],
            "text/plain": [
              "  Sentiment     Score\n",
              "0  NEGATIVE  0.936341\n",
              "1  NEGATIVE  0.966200\n",
              "2  NEGATIVE  0.967700\n",
              "3  POSITIVE  0.971031\n",
              "4  POSITIVE  0.674825"
            ]
          },
          "metadata": {
            "tags": []
          },
          "execution_count": 102
        }
      ]
    },
    {
      "cell_type": "code",
      "metadata": {
        "id": "WhKlrsemtl48"
      },
      "source": [
        "tweet_df[\"sentiment\"] = sentiment_df[\"Sentiment\"]"
      ],
      "execution_count": 104,
      "outputs": []
    },
    {
      "cell_type": "markdown",
      "metadata": {
        "id": "YBVis2W4F1y6"
      },
      "source": [
        "## Aanlysing sentiments of authors for different etities"
      ]
    },
    {
      "cell_type": "code",
      "metadata": {
        "colab": {
          "base_uri": "https://localhost:8080/",
          "height": 66,
          "referenced_widgets": [
            "986a75c45edb40f495dca36eff1b5799",
            "422701f297c142c7b85762c60d238b8d",
            "445d99b6baf944d5ac85c06aa69cc001",
            "cfe734a99d1748bd8cdb42f44343824b",
            "b8dcd25a95cc45afa1c66b681a17d1c3",
            "f7de9cb463b24a1890f7406fe3ae1d4b",
            "0ce10c223d344f9284258e6e11488d90",
            "45729627486042a6967c0e00428867c7"
          ]
        },
        "id": "g4kctX2DtNOu",
        "outputId": "eb8d54f7-6387-4b81-c9a2-5adc8eb14092"
      },
      "source": [
        "final_entities_dict = {\"author\":[]}\n",
        "for entity in entities:\n",
        "  final_entities_dict[entity] = []\n",
        "for author in tqdm(tweet_df[\"tweet author\"].unique()):\n",
        "    sub_df = tweet_df[tweet_df[\"tweet author\"]==author]\n",
        "    entities_dict = dict()\n",
        "    for i in range(len(sub_df)):\n",
        "        tweet = sub_df.iloc[i]\n",
        "        try:\n",
        "          tweet_bigrams = [\" \".join(bigram) for bigram in nltk.bigrams(tweet[\"tweet text\"].split())]\n",
        "          tweet_trigrams = [\" \".join(trigram) for trigram in nltk.trigrams(tweet[\"tweet text\"].split())]\n",
        "        except:\n",
        "          #print(tweet[\"tweet text\"])\n",
        "          pass\n",
        "        keywords = set(tweet_bigrams+tweet_trigrams)\n",
        "        entities_mateched = set(keywords)&set(entities)\n",
        "        for entity in entities_mateched:\n",
        "            if entity not in list(entities_dict.keys()):\n",
        "              entities_dict[entity] = [tweet[\"sentiment\"]]\n",
        "            else:\n",
        "              entities_dict[entity].append(tweet[\"sentiment\"])\n",
        "    for entity in list(entities_dict.keys()):\n",
        "      if \"NEGATIVE\" in entities_dict[entity] and \"POSITIVE\" in entities_dict[entity]:\n",
        "        pos_count = entities_dict[entity].count(\"POSITIVE\")\n",
        "        neg_count = entities_dict[entity].count(\"NEGATIVE\")\n",
        "        if pos_count>neg_count:\n",
        "          entities_dict[entity] = \"POSITIVE\"\n",
        "        else:\n",
        "          entities_dict[entity] = \"NEGATIVE\"\n",
        "      else:\n",
        "         entities_dict[entity] =  entities_dict[entity][0]\n",
        "    for key in final_entities_dict:\n",
        "      if key == \"author\":\n",
        "        final_entities_dict[key].append(author)\n",
        "      elif key in entities_dict.keys():\n",
        "        final_entities_dict[key].append(entities_dict[key])\n",
        "      else:\n",
        "        final_entities_dict[key].append(None)"
      ],
      "execution_count": 148,
      "outputs": [
        {
          "output_type": "display_data",
          "data": {
            "application/vnd.jupyter.widget-view+json": {
              "model_id": "986a75c45edb40f495dca36eff1b5799",
              "version_minor": 0,
              "version_major": 2
            },
            "text/plain": [
              "HBox(children=(FloatProgress(value=0.0, max=9292.0), HTML(value='')))"
            ]
          },
          "metadata": {
            "tags": []
          }
        },
        {
          "output_type": "stream",
          "text": [
            "\n"
          ],
          "name": "stdout"
        }
      ]
    },
    {
      "cell_type": "code",
      "metadata": {
        "colab": {
          "base_uri": "https://localhost:8080/",
          "height": 328
        },
        "id": "bW0n62iPu3AP",
        "outputId": "048f9ed1-c7eb-4d89-b5ea-2ad5981951c0"
      },
      "source": [
        "author_sentiment_df = pd.DataFrame(final_entities_dict)\n",
        "author_sentiment_df.head()"
      ],
      "execution_count": 149,
      "outputs": [
        {
          "output_type": "execute_result",
          "data": {
            "text/html": [
              "<div>\n",
              "<style scoped>\n",
              "    .dataframe tbody tr th:only-of-type {\n",
              "        vertical-align: middle;\n",
              "    }\n",
              "\n",
              "    .dataframe tbody tr th {\n",
              "        vertical-align: top;\n",
              "    }\n",
              "\n",
              "    .dataframe thead th {\n",
              "        text-align: right;\n",
              "    }\n",
              "</style>\n",
              "<table border=\"1\" class=\"dataframe\">\n",
              "  <thead>\n",
              "    <tr style=\"text-align: right;\">\n",
              "      <th></th>\n",
              "      <th>author</th>\n",
              "      <th>chronic lymphocytic</th>\n",
              "      <th>lymphocytic leukemia</th>\n",
              "      <th>patients chronic</th>\n",
              "      <th>leukemia cll</th>\n",
              "      <th>relapsed refractory</th>\n",
              "      <th>refractory chronic</th>\n",
              "      <th>small lymphocytic</th>\n",
              "      <th>treatment chronic</th>\n",
              "      <th>cell lymphoma</th>\n",
              "      <th>mantle cell</th>\n",
              "      <th>lymphocytic lymphoma</th>\n",
              "      <th>patients relapsed</th>\n",
              "      <th>lymphocytic leukaemia</th>\n",
              "      <th>clinical trial</th>\n",
              "      <th>leukemia small</th>\n",
              "      <th>leukemia patients</th>\n",
              "      <th>high risk</th>\n",
              "      <th>leukemia new</th>\n",
              "      <th>long term</th>\n",
              "      <th>first line</th>\n",
              "      <th>treatment patients</th>\n",
              "      <th>previously untreated</th>\n",
              "      <th>non hodgkin</th>\n",
              "      <th>cll patients</th>\n",
              "      <th>btk inhibitor</th>\n",
              "      <th>fda approves</th>\n",
              "      <th>blood cancer</th>\n",
              "      <th>phase iii</th>\n",
              "      <th>clinical trials</th>\n",
              "      <th>relapsed chronic</th>\n",
              "      <th>hodgkin lymphoma</th>\n",
              "      <th>btk inhibitors</th>\n",
              "      <th>treatment options</th>\n",
              "      <th>cell therapy</th>\n",
              "      <th>cancer drug</th>\n",
              "      <th>untreated chronic</th>\n",
              "      <th>lymphoma chronic</th>\n",
              "      <th>phase study</th>\n",
              "      <th>line treatment</th>\n",
              "      <th>...</th>\n",
              "      <th>chronic lymphocytic leukemia</th>\n",
              "      <th>patients chronic lymphocytic</th>\n",
              "      <th>lymphocytic leukemia cll</th>\n",
              "      <th>refractory chronic lymphocytic</th>\n",
              "      <th>relapsed refractory chronic</th>\n",
              "      <th>treatment chronic lymphocytic</th>\n",
              "      <th>small lymphocytic lymphoma</th>\n",
              "      <th>chronic lymphocytic leukaemia</th>\n",
              "      <th>mantle cell lymphoma</th>\n",
              "      <th>lymphocytic leukemia small</th>\n",
              "      <th>leukemia small lymphocytic</th>\n",
              "      <th>patients relapsed refractory</th>\n",
              "      <th>lymphocytic leukemia patients</th>\n",
              "      <th>lymphocytic leukemia new</th>\n",
              "      <th>relapsed chronic lymphocytic</th>\n",
              "      <th>untreated chronic lymphocytic</th>\n",
              "      <th>lymphoma chronic lymphocytic</th>\n",
              "      <th>non hodgkin lymphoma</th>\n",
              "      <th>lymphocytic leukemia via</th>\n",
              "      <th>cell chronic lymphocytic</th>\n",
              "      <th>lymphocytic leukemia cells</th>\n",
              "      <th>treatment patients chronic</th>\n",
              "      <th>leukemia chronic lymphocytic</th>\n",
              "      <th>diagnosed chronic lymphocytic</th>\n",
              "      <th>minimal residual disease</th>\n",
              "      <th>first line treatment</th>\n",
              "      <th>new clinical trial</th>\n",
              "      <th>therapy chronic lymphocytic</th>\n",
              "      <th>previously untreated chronic</th>\n",
              "      <th>lymphocytic leukemia treatment</th>\n",
              "      <th>progression free survival</th>\n",
              "      <th>chronic lymphocytic cll</th>\n",
              "      <th>patient chronic lymphocytic</th>\n",
              "      <th>risk chronic lymphocytic</th>\n",
              "      <th>lymphocytic leukemia chronic</th>\n",
              "      <th>cll chronic lymphocytic</th>\n",
              "      <th>ibrutinib chronic lymphocytic</th>\n",
              "      <th>breakthrough therapy designation</th>\n",
              "      <th>bruton tyrosine kinase</th>\n",
              "      <th>high risk chronic</th>\n",
              "    </tr>\n",
              "  </thead>\n",
              "  <tbody>\n",
              "    <tr>\n",
              "      <th>0</th>\n",
              "      <td>Hematopoiesis News</td>\n",
              "      <td>NEGATIVE</td>\n",
              "      <td>NEGATIVE</td>\n",
              "      <td>NEGATIVE</td>\n",
              "      <td>NEGATIVE</td>\n",
              "      <td>NEGATIVE</td>\n",
              "      <td>NEGATIVE</td>\n",
              "      <td>NEGATIVE</td>\n",
              "      <td>NEGATIVE</td>\n",
              "      <td>None</td>\n",
              "      <td>NEGATIVE</td>\n",
              "      <td>NEGATIVE</td>\n",
              "      <td>NEGATIVE</td>\n",
              "      <td>None</td>\n",
              "      <td>NEGATIVE</td>\n",
              "      <td>NEGATIVE</td>\n",
              "      <td>NEGATIVE</td>\n",
              "      <td>POSITIVE</td>\n",
              "      <td>None</td>\n",
              "      <td>None</td>\n",
              "      <td>NEGATIVE</td>\n",
              "      <td>NEGATIVE</td>\n",
              "      <td>None</td>\n",
              "      <td>None</td>\n",
              "      <td>NEGATIVE</td>\n",
              "      <td>None</td>\n",
              "      <td>NEGATIVE</td>\n",
              "      <td>None</td>\n",
              "      <td>NEGATIVE</td>\n",
              "      <td>None</td>\n",
              "      <td>None</td>\n",
              "      <td>None</td>\n",
              "      <td>None</td>\n",
              "      <td>None</td>\n",
              "      <td>None</td>\n",
              "      <td>None</td>\n",
              "      <td>None</td>\n",
              "      <td>None</td>\n",
              "      <td>NEGATIVE</td>\n",
              "      <td>POSITIVE</td>\n",
              "      <td>...</td>\n",
              "      <td>NEGATIVE</td>\n",
              "      <td>NEGATIVE</td>\n",
              "      <td>NEGATIVE</td>\n",
              "      <td>NEGATIVE</td>\n",
              "      <td>NEGATIVE</td>\n",
              "      <td>NEGATIVE</td>\n",
              "      <td>NEGATIVE</td>\n",
              "      <td>None</td>\n",
              "      <td>None</td>\n",
              "      <td>NEGATIVE</td>\n",
              "      <td>NEGATIVE</td>\n",
              "      <td>NEGATIVE</td>\n",
              "      <td>NEGATIVE</td>\n",
              "      <td>None</td>\n",
              "      <td>None</td>\n",
              "      <td>None</td>\n",
              "      <td>None</td>\n",
              "      <td>None</td>\n",
              "      <td>None</td>\n",
              "      <td>NEGATIVE</td>\n",
              "      <td>None</td>\n",
              "      <td>None</td>\n",
              "      <td>None</td>\n",
              "      <td>None</td>\n",
              "      <td>None</td>\n",
              "      <td>POSITIVE</td>\n",
              "      <td>None</td>\n",
              "      <td>NEGATIVE</td>\n",
              "      <td>None</td>\n",
              "      <td>None</td>\n",
              "      <td>None</td>\n",
              "      <td>None</td>\n",
              "      <td>None</td>\n",
              "      <td>POSITIVE</td>\n",
              "      <td>None</td>\n",
              "      <td>None</td>\n",
              "      <td>None</td>\n",
              "      <td>NEGATIVE</td>\n",
              "      <td>None</td>\n",
              "      <td>POSITIVE</td>\n",
              "    </tr>\n",
              "    <tr>\n",
              "      <th>1</th>\n",
              "      <td>Michael Wang, MD</td>\n",
              "      <td>POSITIVE</td>\n",
              "      <td>POSITIVE</td>\n",
              "      <td>None</td>\n",
              "      <td>POSITIVE</td>\n",
              "      <td>NEGATIVE</td>\n",
              "      <td>None</td>\n",
              "      <td>POSITIVE</td>\n",
              "      <td>None</td>\n",
              "      <td>POSITIVE</td>\n",
              "      <td>POSITIVE</td>\n",
              "      <td>POSITIVE</td>\n",
              "      <td>NEGATIVE</td>\n",
              "      <td>None</td>\n",
              "      <td>NEGATIVE</td>\n",
              "      <td>POSITIVE</td>\n",
              "      <td>None</td>\n",
              "      <td>None</td>\n",
              "      <td>None</td>\n",
              "      <td>POSITIVE</td>\n",
              "      <td>None</td>\n",
              "      <td>None</td>\n",
              "      <td>None</td>\n",
              "      <td>None</td>\n",
              "      <td>POSITIVE</td>\n",
              "      <td>NEGATIVE</td>\n",
              "      <td>None</td>\n",
              "      <td>None</td>\n",
              "      <td>None</td>\n",
              "      <td>None</td>\n",
              "      <td>None</td>\n",
              "      <td>None</td>\n",
              "      <td>NEGATIVE</td>\n",
              "      <td>None</td>\n",
              "      <td>None</td>\n",
              "      <td>None</td>\n",
              "      <td>None</td>\n",
              "      <td>None</td>\n",
              "      <td>POSITIVE</td>\n",
              "      <td>None</td>\n",
              "      <td>...</td>\n",
              "      <td>POSITIVE</td>\n",
              "      <td>None</td>\n",
              "      <td>POSITIVE</td>\n",
              "      <td>None</td>\n",
              "      <td>None</td>\n",
              "      <td>None</td>\n",
              "      <td>POSITIVE</td>\n",
              "      <td>None</td>\n",
              "      <td>POSITIVE</td>\n",
              "      <td>POSITIVE</td>\n",
              "      <td>POSITIVE</td>\n",
              "      <td>NEGATIVE</td>\n",
              "      <td>None</td>\n",
              "      <td>None</td>\n",
              "      <td>None</td>\n",
              "      <td>None</td>\n",
              "      <td>None</td>\n",
              "      <td>None</td>\n",
              "      <td>None</td>\n",
              "      <td>None</td>\n",
              "      <td>None</td>\n",
              "      <td>None</td>\n",
              "      <td>None</td>\n",
              "      <td>None</td>\n",
              "      <td>None</td>\n",
              "      <td>None</td>\n",
              "      <td>None</td>\n",
              "      <td>None</td>\n",
              "      <td>None</td>\n",
              "      <td>None</td>\n",
              "      <td>None</td>\n",
              "      <td>None</td>\n",
              "      <td>None</td>\n",
              "      <td>None</td>\n",
              "      <td>None</td>\n",
              "      <td>None</td>\n",
              "      <td>None</td>\n",
              "      <td>None</td>\n",
              "      <td>POSITIVE</td>\n",
              "      <td>None</td>\n",
              "    </tr>\n",
              "    <tr>\n",
              "      <th>2</th>\n",
              "      <td>1stOncology</td>\n",
              "      <td>NEGATIVE</td>\n",
              "      <td>NEGATIVE</td>\n",
              "      <td>NEGATIVE</td>\n",
              "      <td>None</td>\n",
              "      <td>NEGATIVE</td>\n",
              "      <td>None</td>\n",
              "      <td>NEGATIVE</td>\n",
              "      <td>NEGATIVE</td>\n",
              "      <td>None</td>\n",
              "      <td>None</td>\n",
              "      <td>NEGATIVE</td>\n",
              "      <td>POSITIVE</td>\n",
              "      <td>None</td>\n",
              "      <td>None</td>\n",
              "      <td>NEGATIVE</td>\n",
              "      <td>None</td>\n",
              "      <td>NEGATIVE</td>\n",
              "      <td>None</td>\n",
              "      <td>NEGATIVE</td>\n",
              "      <td>NEGATIVE</td>\n",
              "      <td>NEGATIVE</td>\n",
              "      <td>NEGATIVE</td>\n",
              "      <td>None</td>\n",
              "      <td>NEGATIVE</td>\n",
              "      <td>None</td>\n",
              "      <td>NEGATIVE</td>\n",
              "      <td>NEGATIVE</td>\n",
              "      <td>NEGATIVE</td>\n",
              "      <td>None</td>\n",
              "      <td>NEGATIVE</td>\n",
              "      <td>None</td>\n",
              "      <td>None</td>\n",
              "      <td>None</td>\n",
              "      <td>None</td>\n",
              "      <td>None</td>\n",
              "      <td>NEGATIVE</td>\n",
              "      <td>None</td>\n",
              "      <td>NEGATIVE</td>\n",
              "      <td>NEGATIVE</td>\n",
              "      <td>...</td>\n",
              "      <td>NEGATIVE</td>\n",
              "      <td>NEGATIVE</td>\n",
              "      <td>None</td>\n",
              "      <td>None</td>\n",
              "      <td>None</td>\n",
              "      <td>NEGATIVE</td>\n",
              "      <td>NEGATIVE</td>\n",
              "      <td>None</td>\n",
              "      <td>None</td>\n",
              "      <td>NEGATIVE</td>\n",
              "      <td>NEGATIVE</td>\n",
              "      <td>NEGATIVE</td>\n",
              "      <td>None</td>\n",
              "      <td>None</td>\n",
              "      <td>NEGATIVE</td>\n",
              "      <td>None</td>\n",
              "      <td>None</td>\n",
              "      <td>None</td>\n",
              "      <td>None</td>\n",
              "      <td>None</td>\n",
              "      <td>None</td>\n",
              "      <td>NEGATIVE</td>\n",
              "      <td>None</td>\n",
              "      <td>None</td>\n",
              "      <td>None</td>\n",
              "      <td>NEGATIVE</td>\n",
              "      <td>None</td>\n",
              "      <td>None</td>\n",
              "      <td>NEGATIVE</td>\n",
              "      <td>None</td>\n",
              "      <td>NEGATIVE</td>\n",
              "      <td>None</td>\n",
              "      <td>None</td>\n",
              "      <td>None</td>\n",
              "      <td>None</td>\n",
              "      <td>None</td>\n",
              "      <td>None</td>\n",
              "      <td>None</td>\n",
              "      <td>None</td>\n",
              "      <td>None</td>\n",
              "    </tr>\n",
              "    <tr>\n",
              "      <th>3</th>\n",
              "      <td>Toby Eyre</td>\n",
              "      <td>NEGATIVE</td>\n",
              "      <td>NEGATIVE</td>\n",
              "      <td>NEGATIVE</td>\n",
              "      <td>None</td>\n",
              "      <td>NEGATIVE</td>\n",
              "      <td>None</td>\n",
              "      <td>None</td>\n",
              "      <td>POSITIVE</td>\n",
              "      <td>NEGATIVE</td>\n",
              "      <td>NEGATIVE</td>\n",
              "      <td>None</td>\n",
              "      <td>None</td>\n",
              "      <td>POSITIVE</td>\n",
              "      <td>NEGATIVE</td>\n",
              "      <td>None</td>\n",
              "      <td>POSITIVE</td>\n",
              "      <td>NEGATIVE</td>\n",
              "      <td>None</td>\n",
              "      <td>NEGATIVE</td>\n",
              "      <td>NEGATIVE</td>\n",
              "      <td>None</td>\n",
              "      <td>None</td>\n",
              "      <td>None</td>\n",
              "      <td>NEGATIVE</td>\n",
              "      <td>NEGATIVE</td>\n",
              "      <td>None</td>\n",
              "      <td>NEGATIVE</td>\n",
              "      <td>POSITIVE</td>\n",
              "      <td>NEGATIVE</td>\n",
              "      <td>NEGATIVE</td>\n",
              "      <td>None</td>\n",
              "      <td>NEGATIVE</td>\n",
              "      <td>None</td>\n",
              "      <td>None</td>\n",
              "      <td>None</td>\n",
              "      <td>None</td>\n",
              "      <td>None</td>\n",
              "      <td>POSITIVE</td>\n",
              "      <td>None</td>\n",
              "      <td>...</td>\n",
              "      <td>NEGATIVE</td>\n",
              "      <td>NEGATIVE</td>\n",
              "      <td>None</td>\n",
              "      <td>None</td>\n",
              "      <td>None</td>\n",
              "      <td>POSITIVE</td>\n",
              "      <td>None</td>\n",
              "      <td>POSITIVE</td>\n",
              "      <td>NEGATIVE</td>\n",
              "      <td>None</td>\n",
              "      <td>None</td>\n",
              "      <td>None</td>\n",
              "      <td>POSITIVE</td>\n",
              "      <td>None</td>\n",
              "      <td>NEGATIVE</td>\n",
              "      <td>None</td>\n",
              "      <td>None</td>\n",
              "      <td>None</td>\n",
              "      <td>None</td>\n",
              "      <td>NEGATIVE</td>\n",
              "      <td>None</td>\n",
              "      <td>None</td>\n",
              "      <td>None</td>\n",
              "      <td>None</td>\n",
              "      <td>POSITIVE</td>\n",
              "      <td>None</td>\n",
              "      <td>None</td>\n",
              "      <td>None</td>\n",
              "      <td>None</td>\n",
              "      <td>None</td>\n",
              "      <td>None</td>\n",
              "      <td>None</td>\n",
              "      <td>None</td>\n",
              "      <td>NEGATIVE</td>\n",
              "      <td>None</td>\n",
              "      <td>None</td>\n",
              "      <td>None</td>\n",
              "      <td>None</td>\n",
              "      <td>None</td>\n",
              "      <td>NEGATIVE</td>\n",
              "    </tr>\n",
              "    <tr>\n",
              "      <th>4</th>\n",
              "      <td>Lymphoma Hub</td>\n",
              "      <td>NEGATIVE</td>\n",
              "      <td>NEGATIVE</td>\n",
              "      <td>NEGATIVE</td>\n",
              "      <td>NEGATIVE</td>\n",
              "      <td>NEGATIVE</td>\n",
              "      <td>NEGATIVE</td>\n",
              "      <td>NEGATIVE</td>\n",
              "      <td>NEGATIVE</td>\n",
              "      <td>NEGATIVE</td>\n",
              "      <td>NEGATIVE</td>\n",
              "      <td>None</td>\n",
              "      <td>NEGATIVE</td>\n",
              "      <td>NEGATIVE</td>\n",
              "      <td>NEGATIVE</td>\n",
              "      <td>NEGATIVE</td>\n",
              "      <td>None</td>\n",
              "      <td>POSITIVE</td>\n",
              "      <td>None</td>\n",
              "      <td>NEGATIVE</td>\n",
              "      <td>NEGATIVE</td>\n",
              "      <td>POSITIVE</td>\n",
              "      <td>NEGATIVE</td>\n",
              "      <td>NEGATIVE</td>\n",
              "      <td>NEGATIVE</td>\n",
              "      <td>NEGATIVE</td>\n",
              "      <td>None</td>\n",
              "      <td>None</td>\n",
              "      <td>NEGATIVE</td>\n",
              "      <td>NEGATIVE</td>\n",
              "      <td>NEGATIVE</td>\n",
              "      <td>NEGATIVE</td>\n",
              "      <td>POSITIVE</td>\n",
              "      <td>POSITIVE</td>\n",
              "      <td>NEGATIVE</td>\n",
              "      <td>NEGATIVE</td>\n",
              "      <td>POSITIVE</td>\n",
              "      <td>NEGATIVE</td>\n",
              "      <td>NEGATIVE</td>\n",
              "      <td>NEGATIVE</td>\n",
              "      <td>...</td>\n",
              "      <td>NEGATIVE</td>\n",
              "      <td>NEGATIVE</td>\n",
              "      <td>NEGATIVE</td>\n",
              "      <td>NEGATIVE</td>\n",
              "      <td>NEGATIVE</td>\n",
              "      <td>NEGATIVE</td>\n",
              "      <td>None</td>\n",
              "      <td>NEGATIVE</td>\n",
              "      <td>None</td>\n",
              "      <td>NEGATIVE</td>\n",
              "      <td>NEGATIVE</td>\n",
              "      <td>NEGATIVE</td>\n",
              "      <td>None</td>\n",
              "      <td>None</td>\n",
              "      <td>NEGATIVE</td>\n",
              "      <td>POSITIVE</td>\n",
              "      <td>NEGATIVE</td>\n",
              "      <td>NEGATIVE</td>\n",
              "      <td>None</td>\n",
              "      <td>None</td>\n",
              "      <td>None</td>\n",
              "      <td>POSITIVE</td>\n",
              "      <td>None</td>\n",
              "      <td>None</td>\n",
              "      <td>NEGATIVE</td>\n",
              "      <td>NEGATIVE</td>\n",
              "      <td>None</td>\n",
              "      <td>NEGATIVE</td>\n",
              "      <td>POSITIVE</td>\n",
              "      <td>None</td>\n",
              "      <td>None</td>\n",
              "      <td>None</td>\n",
              "      <td>None</td>\n",
              "      <td>None</td>\n",
              "      <td>None</td>\n",
              "      <td>None</td>\n",
              "      <td>None</td>\n",
              "      <td>NEGATIVE</td>\n",
              "      <td>None</td>\n",
              "      <td>None</td>\n",
              "    </tr>\n",
              "  </tbody>\n",
              "</table>\n",
              "<p>5 rows × 122 columns</p>\n",
              "</div>"
            ],
            "text/plain": [
              "               author  ... high risk chronic\n",
              "0  Hematopoiesis News  ...          POSITIVE\n",
              "1    Michael Wang, MD  ...              None\n",
              "2         1stOncology  ...              None\n",
              "3           Toby Eyre  ...          NEGATIVE\n",
              "4        Lymphoma Hub  ...              None\n",
              "\n",
              "[5 rows x 122 columns]"
            ]
          },
          "metadata": {
            "tags": []
          },
          "execution_count": 149
        }
      ]
    },
    {
      "cell_type": "code",
      "metadata": {
        "id": "73sEfi_r6oX0"
      },
      "source": [
        "author_sentiment_df.to_csv(\"nlp_assignment_submission_pranjal_soni.csv\",index=False)"
      ],
      "execution_count": 150,
      "outputs": []
    },
    {
      "cell_type": "code",
      "metadata": {
        "id": "NUv9YhBk8Gm7"
      },
      "source": [
        ""
      ],
      "execution_count": null,
      "outputs": []
    }
  ]
}